{
 "cells": [
  {
   "cell_type": "markdown",
   "id": "366a60f9",
   "metadata": {},
   "source": [
    "## Importação das bibliotecas "
   ]
  },
  {
   "cell_type": "code",
   "execution_count": 66,
   "id": "31eb60d8",
   "metadata": {},
   "outputs": [],
   "source": [
    "import pandas as pd \n",
    "import numpy as np\n",
    "from datetime import datetime\n",
    "import plotly.graph_objects as go\n",
    "import matplotlib.pyplot as plt\n",
    "from sklearn.linear_model import LinearRegression"
   ]
  },
  {
   "cell_type": "markdown",
   "id": "254945c4",
   "metadata": {},
   "source": [
    "## Leitura dos dados "
   ]
  },
  {
   "cell_type": "code",
   "execution_count": 30,
   "id": "78daa475",
   "metadata": {},
   "outputs": [
    {
     "data": {
      "text/html": [
       "<div>\n",
       "<style scoped>\n",
       "    .dataframe tbody tr th:only-of-type {\n",
       "        vertical-align: middle;\n",
       "    }\n",
       "\n",
       "    .dataframe tbody tr th {\n",
       "        vertical-align: top;\n",
       "    }\n",
       "\n",
       "    .dataframe thead th {\n",
       "        text-align: right;\n",
       "    }\n",
       "</style>\n",
       "<table border=\"1\" class=\"dataframe\">\n",
       "  <thead>\n",
       "    <tr style=\"text-align: right;\">\n",
       "      <th></th>\n",
       "      <th>DATA</th>\n",
       "      <th>ANO</th>\n",
       "      <th>MUNICIPIO</th>\n",
       "      <th>REGIÃO_GEO</th>\n",
       "      <th>TOTAL</th>\n",
       "    </tr>\n",
       "  </thead>\n",
       "  <tbody>\n",
       "    <tr>\n",
       "      <th>0</th>\n",
       "      <td>2014-01-01</td>\n",
       "      <td>2014</td>\n",
       "      <td>ABREU E LIMA</td>\n",
       "      <td>REGIÃO METROPOLITANA</td>\n",
       "      <td>1</td>\n",
       "    </tr>\n",
       "    <tr>\n",
       "      <th>1</th>\n",
       "      <td>2014-01-01</td>\n",
       "      <td>2014</td>\n",
       "      <td>ARCOVERDE</td>\n",
       "      <td>SERTÃO</td>\n",
       "      <td>3</td>\n",
       "    </tr>\n",
       "    <tr>\n",
       "      <th>2</th>\n",
       "      <td>2014-01-01</td>\n",
       "      <td>2014</td>\n",
       "      <td>BELO JARDIM</td>\n",
       "      <td>AGRESTE</td>\n",
       "      <td>1</td>\n",
       "    </tr>\n",
       "    <tr>\n",
       "      <th>3</th>\n",
       "      <td>2014-01-01</td>\n",
       "      <td>2014</td>\n",
       "      <td>BONITO</td>\n",
       "      <td>AGRESTE</td>\n",
       "      <td>1</td>\n",
       "    </tr>\n",
       "    <tr>\n",
       "      <th>4</th>\n",
       "      <td>2014-01-01</td>\n",
       "      <td>2014</td>\n",
       "      <td>CABO DE SANTO AGOSTINHO</td>\n",
       "      <td>REGIÃO METROPOLITANA</td>\n",
       "      <td>2</td>\n",
       "    </tr>\n",
       "    <tr>\n",
       "      <th>...</th>\n",
       "      <td>...</td>\n",
       "      <td>...</td>\n",
       "      <td>...</td>\n",
       "      <td>...</td>\n",
       "      <td>...</td>\n",
       "    </tr>\n",
       "    <tr>\n",
       "      <th>147252</th>\n",
       "      <td>2023-08-31</td>\n",
       "      <td>2023</td>\n",
       "      <td>SAO JOSE DA COROA GRANDE</td>\n",
       "      <td>ZONA DA MATA</td>\n",
       "      <td>1</td>\n",
       "    </tr>\n",
       "    <tr>\n",
       "      <th>147253</th>\n",
       "      <td>2023-08-31</td>\n",
       "      <td>2023</td>\n",
       "      <td>SAO LOURENCO DA MATA</td>\n",
       "      <td>REGIÃO METROPOLITANA</td>\n",
       "      <td>2</td>\n",
       "    </tr>\n",
       "    <tr>\n",
       "      <th>147254</th>\n",
       "      <td>2023-08-31</td>\n",
       "      <td>2023</td>\n",
       "      <td>TORITAMA</td>\n",
       "      <td>AGRESTE</td>\n",
       "      <td>2</td>\n",
       "    </tr>\n",
       "    <tr>\n",
       "      <th>147255</th>\n",
       "      <td>2023-08-31</td>\n",
       "      <td>2023</td>\n",
       "      <td>VICENCIA</td>\n",
       "      <td>ZONA DA MATA</td>\n",
       "      <td>1</td>\n",
       "    </tr>\n",
       "    <tr>\n",
       "      <th>147256</th>\n",
       "      <td>2023-08-31</td>\n",
       "      <td>2023</td>\n",
       "      <td>VITORIA DE SANTO ANTAO</td>\n",
       "      <td>ZONA DA MATA</td>\n",
       "      <td>1</td>\n",
       "    </tr>\n",
       "  </tbody>\n",
       "</table>\n",
       "<p>147257 rows × 5 columns</p>\n",
       "</div>"
      ],
      "text/plain": [
       "             DATA   ANO                 MUNICIPIO            REGIÃO_GEO  TOTAL\n",
       "0      2014-01-01  2014              ABREU E LIMA  REGIÃO METROPOLITANA      1\n",
       "1      2014-01-01  2014                 ARCOVERDE                SERTÃO      3\n",
       "2      2014-01-01  2014               BELO JARDIM               AGRESTE      1\n",
       "3      2014-01-01  2014                    BONITO               AGRESTE      1\n",
       "4      2014-01-01  2014   CABO DE SANTO AGOSTINHO  REGIÃO METROPOLITANA      2\n",
       "...           ...   ...                       ...                   ...    ...\n",
       "147252 2023-08-31  2023  SAO JOSE DA COROA GRANDE          ZONA DA MATA      1\n",
       "147253 2023-08-31  2023      SAO LOURENCO DA MATA  REGIÃO METROPOLITANA      2\n",
       "147254 2023-08-31  2023                  TORITAMA               AGRESTE      2\n",
       "147255 2023-08-31  2023                  VICENCIA          ZONA DA MATA      1\n",
       "147256 2023-08-31  2023    VITORIA DE SANTO ANTAO          ZONA DA MATA      1\n",
       "\n",
       "[147257 rows x 5 columns]"
      ]
     },
     "execution_count": 30,
     "metadata": {},
     "output_type": "execute_result"
    }
   ],
   "source": [
    "cvp = pd.read_excel('cvp_2014_2023.xlsx')\n",
    "cvp"
   ]
  },
  {
   "cell_type": "code",
   "execution_count": 31,
   "id": "61ba12e7",
   "metadata": {},
   "outputs": [
    {
     "data": {
      "text/plain": [
       "DATA          0\n",
       "ANO           0\n",
       "MUNICIPIO     0\n",
       "REGIÃO_GEO    0\n",
       "TOTAL         0\n",
       "dtype: int64"
      ]
     },
     "execution_count": 31,
     "metadata": {},
     "output_type": "execute_result"
    }
   ],
   "source": [
    "## Verificação de dados nulos \n",
    "cvp.isna().sum()"
   ]
  },
  {
   "cell_type": "code",
   "execution_count": 32,
   "id": "b9d48ec1",
   "metadata": {},
   "outputs": [
    {
     "data": {
      "text/plain": [
       "0"
      ]
     },
     "execution_count": 32,
     "metadata": {},
     "output_type": "execute_result"
    }
   ],
   "source": [
    "## Verificação de dados duplicados \n",
    "cvp.duplicated().sum()"
   ]
  },
  {
   "cell_type": "markdown",
   "id": "50613cd1",
   "metadata": {},
   "source": [
    "## Perguntas para Análise dos dados da Planilha - CVP "
   ]
  },
  {
   "cell_type": "markdown",
   "id": "ccb409c0",
   "metadata": {},
   "source": [
    "** 1) Qual foi o número total de crimes violentos contra o patrimônio público registrados ao longo dos anos?"
   ]
  },
  {
   "cell_type": "code",
   "execution_count": 33,
   "id": "c1a19f1f",
   "metadata": {},
   "outputs": [],
   "source": [
    "total_crimes_violentos = cvp['TOTAL'].sum()"
   ]
  },
  {
   "cell_type": "code",
   "execution_count": 34,
   "id": "d7730236",
   "metadata": {},
   "outputs": [
    {
     "name": "stdout",
     "output_type": "stream",
     "text": [
      "Total de crimes violentos contra o patrimônio público é de: 749423\n"
     ]
    }
   ],
   "source": [
    "print(f\"Total de crimes violentos contra o patrimônio público é de: {total_crimes_violentos}\")"
   ]
  },
  {
   "cell_type": "markdown",
   "id": "e7343d1b",
   "metadata": {},
   "source": [
    "**2) Como os crimes violentos contra o patrimônio público variaram ao longo dos anos ? "
   ]
  },
  {
   "cell_type": "code",
   "execution_count": 35,
   "id": "9e12c474",
   "metadata": {},
   "outputs": [],
   "source": [
    "total_ano_crime = cvp.groupby([\"ANO\"]).sum()[\"TOTAL\"].rename(\"Total de Crimes por Ano\")"
   ]
  },
  {
   "cell_type": "code",
   "execution_count": 36,
   "id": "8ad57036",
   "metadata": {},
   "outputs": [],
   "source": [
    "analise = pd.DataFrame({\"Total de Crimes por Ano\" : total_ano_crime})"
   ]
  },
  {
   "cell_type": "code",
   "execution_count": 37,
   "id": "00775db0",
   "metadata": {},
   "outputs": [],
   "source": [
    "analise = analise.sort_values(by=\"Total de Crimes por Ano\", ascending=False)"
   ]
  },
  {
   "cell_type": "code",
   "execution_count": 38,
   "id": "93271d93",
   "metadata": {},
   "outputs": [
    {
     "data": {
      "text/html": [
       "<div>\n",
       "<style scoped>\n",
       "    .dataframe tbody tr th:only-of-type {\n",
       "        vertical-align: middle;\n",
       "    }\n",
       "\n",
       "    .dataframe tbody tr th {\n",
       "        vertical-align: top;\n",
       "    }\n",
       "\n",
       "    .dataframe thead th {\n",
       "        text-align: right;\n",
       "    }\n",
       "</style>\n",
       "<table border=\"1\" class=\"dataframe\">\n",
       "  <thead>\n",
       "    <tr style=\"text-align: right;\">\n",
       "      <th></th>\n",
       "      <th>Total de Crimes por Ano</th>\n",
       "    </tr>\n",
       "    <tr>\n",
       "      <th>ANO</th>\n",
       "      <th></th>\n",
       "    </tr>\n",
       "  </thead>\n",
       "  <tbody>\n",
       "    <tr>\n",
       "      <th>2017</th>\n",
       "      <td>120675</td>\n",
       "    </tr>\n",
       "    <tr>\n",
       "      <th>2016</th>\n",
       "      <td>115470</td>\n",
       "    </tr>\n",
       "    <tr>\n",
       "      <th>2018</th>\n",
       "      <td>95347</td>\n",
       "    </tr>\n",
       "    <tr>\n",
       "      <th>2015</th>\n",
       "      <td>85074</td>\n",
       "    </tr>\n",
       "    <tr>\n",
       "      <th>2019</th>\n",
       "      <td>79762</td>\n",
       "    </tr>\n",
       "    <tr>\n",
       "      <th>2014</th>\n",
       "      <td>65269</td>\n",
       "    </tr>\n",
       "    <tr>\n",
       "      <th>2020</th>\n",
       "      <td>53313</td>\n",
       "    </tr>\n",
       "    <tr>\n",
       "      <th>2021</th>\n",
       "      <td>52086</td>\n",
       "    </tr>\n",
       "    <tr>\n",
       "      <th>2022</th>\n",
       "      <td>51118</td>\n",
       "    </tr>\n",
       "    <tr>\n",
       "      <th>2023</th>\n",
       "      <td>31309</td>\n",
       "    </tr>\n",
       "  </tbody>\n",
       "</table>\n",
       "</div>"
      ],
      "text/plain": [
       "      Total de Crimes por Ano\n",
       "ANO                          \n",
       "2017                   120675\n",
       "2016                   115470\n",
       "2018                    95347\n",
       "2015                    85074\n",
       "2019                    79762\n",
       "2014                    65269\n",
       "2020                    53313\n",
       "2021                    52086\n",
       "2022                    51118\n",
       "2023                    31309"
      ]
     },
     "execution_count": 38,
     "metadata": {},
     "output_type": "execute_result"
    }
   ],
   "source": [
    "analise"
   ]
  },
  {
   "cell_type": "markdown",
   "id": "a183af9b",
   "metadata": {},
   "source": [
    "** 3) Qual foi o município com o maior número de crimes violentos contra o patrimônio público durante o período analisado ?"
   ]
  },
  {
   "cell_type": "code",
   "execution_count": 39,
   "id": "625b500a",
   "metadata": {},
   "outputs": [],
   "source": [
    "## Agrupamento de índice do município com maior número de crimes violentos contra o patrimônio público\n",
    "indice_maior_crime = cvp['TOTAL'].idxmax()"
   ]
  },
  {
   "cell_type": "code",
   "execution_count": 40,
   "id": "d52c353a",
   "metadata": {},
   "outputs": [],
   "source": [
    "## Obtendo o nome do município maior no índice\n",
    "municipio_maior_crime = cvp.loc[indice_maior_crime]['MUNICIPIO']"
   ]
  },
  {
   "cell_type": "code",
   "execution_count": 41,
   "id": "34c20827",
   "metadata": {},
   "outputs": [],
   "source": [
    "## Valor total de crimes para esse município \n",
    "total_maior_crime = cvp.loc[indice_maior_crime]['TOTAL']"
   ]
  },
  {
   "cell_type": "code",
   "execution_count": 42,
   "id": "6fe01d64",
   "metadata": {},
   "outputs": [
    {
     "name": "stdout",
     "output_type": "stream",
     "text": [
      "Município com o maior número de crimes violentos contra o patrimônio público é: RECIFE, com um total de 418 crimes .\n"
     ]
    }
   ],
   "source": [
    "print(f\"Município com o maior número de crimes violentos contra o patrimônio público é: {municipio_maior_crime}, com um total de {total_maior_crime} crimes .\")"
   ]
  },
  {
   "cell_type": "markdown",
   "id": "4e79b9dd",
   "metadata": {},
   "source": [
    "**4) Quais regiões geográficas apresentaram o maior índice de crimes violentos contra o patrimônio público ?"
   ]
  },
  {
   "cell_type": "code",
   "execution_count": 43,
   "id": "b1101ac4",
   "metadata": {},
   "outputs": [],
   "source": [
    "## Agrupamento para obter o total de crimes por região\n",
    "crimes_por_regiao = cvp.groupby([\"REGIÃO_GEO\"]).sum()[\"TOTAL\"].rename(\"Total de Crimes em Região\")"
   ]
  },
  {
   "cell_type": "code",
   "execution_count": 44,
   "id": "c4fe42cb",
   "metadata": {},
   "outputs": [],
   "source": [
    "## Montando um diciónario para mostrar os dados\n",
    "regiao_maior_indice = pd.DataFrame({\"Total de Crimes em Região\" : crimes_por_regiao})"
   ]
  },
  {
   "cell_type": "code",
   "execution_count": 45,
   "id": "9e173958",
   "metadata": {},
   "outputs": [],
   "source": [
    "regiao_maior_indice = regiao_maior_indice.sort_values(by=\"Total de Crimes em Região\", ascending=False)"
   ]
  },
  {
   "cell_type": "code",
   "execution_count": 46,
   "id": "519a3bde",
   "metadata": {},
   "outputs": [
    {
     "data": {
      "text/html": [
       "<div>\n",
       "<style scoped>\n",
       "    .dataframe tbody tr th:only-of-type {\n",
       "        vertical-align: middle;\n",
       "    }\n",
       "\n",
       "    .dataframe tbody tr th {\n",
       "        vertical-align: top;\n",
       "    }\n",
       "\n",
       "    .dataframe thead th {\n",
       "        text-align: right;\n",
       "    }\n",
       "</style>\n",
       "<table border=\"1\" class=\"dataframe\">\n",
       "  <thead>\n",
       "    <tr style=\"text-align: right;\">\n",
       "      <th></th>\n",
       "      <th>Total de Crimes em Região</th>\n",
       "    </tr>\n",
       "    <tr>\n",
       "      <th>REGIÃO_GEO</th>\n",
       "      <th></th>\n",
       "    </tr>\n",
       "  </thead>\n",
       "  <tbody>\n",
       "    <tr>\n",
       "      <th>RECIFE</th>\n",
       "      <td>271518</td>\n",
       "    </tr>\n",
       "    <tr>\n",
       "      <th>REGIÃO METROPOLITANA</th>\n",
       "      <td>228970</td>\n",
       "    </tr>\n",
       "    <tr>\n",
       "      <th>AGRESTE</th>\n",
       "      <td>144045</td>\n",
       "    </tr>\n",
       "    <tr>\n",
       "      <th>ZONA DA MATA</th>\n",
       "      <td>66313</td>\n",
       "    </tr>\n",
       "    <tr>\n",
       "      <th>SERTÃO</th>\n",
       "      <td>38577</td>\n",
       "    </tr>\n",
       "  </tbody>\n",
       "</table>\n",
       "</div>"
      ],
      "text/plain": [
       "                      Total de Crimes em Região\n",
       "REGIÃO_GEO                                     \n",
       "RECIFE                                   271518\n",
       "REGIÃO METROPOLITANA                     228970\n",
       "AGRESTE                                  144045\n",
       "ZONA DA MATA                              66313\n",
       "SERTÃO                                    38577"
      ]
     },
     "execution_count": 46,
     "metadata": {},
     "output_type": "execute_result"
    }
   ],
   "source": [
    "regiao_maior_indice"
   ]
  },
  {
   "cell_type": "markdown",
   "id": "ec17b80b",
   "metadata": {},
   "source": [
    "**5) Houve algum ano em particular que se destacou com um aumento significativo ou uma diminuição nos crimes violentos contra o patrimônio público ?"
   ]
  },
  {
   "cell_type": "code",
   "execution_count": 47,
   "id": "6dc2fb2d",
   "metadata": {},
   "outputs": [],
   "source": [
    "## Agrupamento dos dados da coluna Ano e Total\n",
    "crimes_por_ano = cvp.groupby('ANO')['TOTAL'].sum().reset_index()"
   ]
  },
  {
   "cell_type": "code",
   "execution_count": 48,
   "id": "6f902eda",
   "metadata": {},
   "outputs": [],
   "source": [
    "## Cálculo da variação percentual entre os anos \n",
    "crimes_por_ano['Variação_Percentual'] = crimes_por_ano['TOTAL'].pct_change() * 100"
   ]
  },
  {
   "cell_type": "code",
   "execution_count": 49,
   "id": "8de5a358",
   "metadata": {},
   "outputs": [],
   "source": [
    "## Aumento Significativo por ano e Diminuição Significativo por ano \n",
    "ano_maior_aumento = crimes_por_ano.loc[crimes_por_ano['Variação_Percentual'].idxmax()]\n",
    "ano_menor_diminuicao = crimes_por_ano.loc[crimes_por_ano['Variação_Percentual'].idxmin()]"
   ]
  },
  {
   "cell_type": "code",
   "execution_count": 50,
   "id": "c8dbc898",
   "metadata": {},
   "outputs": [
    {
     "name": "stdout",
     "output_type": "stream",
     "text": [
      "O ano com o maior aumento significativo nos crimes violentos contra o patrimônio público foi 2016.0 com uma variação de 35.73%.\n"
     ]
    }
   ],
   "source": [
    "## Impressão na tela \n",
    "print(f'O ano com o maior aumento significativo nos crimes violentos contra o patrimônio público foi {ano_maior_aumento[\"ANO\"]} com uma variação de {ano_maior_aumento[\"Variação_Percentual\"]:.2f}%.')"
   ]
  },
  {
   "cell_type": "code",
   "execution_count": 51,
   "id": "3338df85",
   "metadata": {},
   "outputs": [
    {
     "name": "stdout",
     "output_type": "stream",
     "text": [
      "O ano com a maior diminuição significativa nos crimes violentos contra o patrimônio público foi 2023.0 com uma variação de -38.75%.\n"
     ]
    }
   ],
   "source": [
    "print(f'O ano com a maior diminuição significativa nos crimes violentos contra o patrimônio público foi {ano_menor_diminuicao[\"ANO\"]} com uma variação de {ano_menor_diminuicao[\"Variação_Percentual\"]:.2f}%.')"
   ]
  },
  {
   "cell_type": "markdown",
   "id": "bc16a7b1",
   "metadata": {},
   "source": [
    "**6) Existe alguma tendência sazonal nos crimes violentos contra o patrimônio público?"
   ]
  },
  {
   "cell_type": "code",
   "execution_count": 52,
   "id": "816462e6",
   "metadata": {},
   "outputs": [],
   "source": [
    "cvp['MẼS'] = cvp['DATA'].dt.month"
   ]
  },
  {
   "cell_type": "code",
   "execution_count": 53,
   "id": "5a280c16",
   "metadata": {},
   "outputs": [],
   "source": [
    "## Cálculo da Média Mensal\n",
    "media_mensal = cvp.groupby('MẼS')['TOTAL'].mean()"
   ]
  },
  {
   "cell_type": "code",
   "execution_count": 54,
   "id": "9a16a594",
   "metadata": {},
   "outputs": [
    {
     "data": {
      "application/vnd.plotly.v1+json": {
       "config": {
        "plotlyServerURL": "https://plot.ly"
       },
       "data": [
        {
         "type": "bar",
         "x": [
          1,
          2,
          3,
          4,
          5,
          6,
          7,
          8,
          9,
          10,
          11,
          12
         ],
         "y": [
          4.988915040619543,
          5.328062569072515,
          5.184295363831747,
          5.095107821049243,
          5.125299713821641,
          5.11582980761555,
          5.109852061693421,
          5.154329331319074,
          5.0264824916417385,
          4.974728004797396,
          5.019538034039597,
          4.931120905712557
         ]
        }
       ],
       "layout": {
        "template": {
         "data": {
          "bar": [
           {
            "error_x": {
             "color": "#2a3f5f"
            },
            "error_y": {
             "color": "#2a3f5f"
            },
            "marker": {
             "line": {
              "color": "#E5ECF6",
              "width": 0.5
             },
             "pattern": {
              "fillmode": "overlay",
              "size": 10,
              "solidity": 0.2
             }
            },
            "type": "bar"
           }
          ],
          "barpolar": [
           {
            "marker": {
             "line": {
              "color": "#E5ECF6",
              "width": 0.5
             },
             "pattern": {
              "fillmode": "overlay",
              "size": 10,
              "solidity": 0.2
             }
            },
            "type": "barpolar"
           }
          ],
          "carpet": [
           {
            "aaxis": {
             "endlinecolor": "#2a3f5f",
             "gridcolor": "white",
             "linecolor": "white",
             "minorgridcolor": "white",
             "startlinecolor": "#2a3f5f"
            },
            "baxis": {
             "endlinecolor": "#2a3f5f",
             "gridcolor": "white",
             "linecolor": "white",
             "minorgridcolor": "white",
             "startlinecolor": "#2a3f5f"
            },
            "type": "carpet"
           }
          ],
          "choropleth": [
           {
            "colorbar": {
             "outlinewidth": 0,
             "ticks": ""
            },
            "type": "choropleth"
           }
          ],
          "contour": [
           {
            "colorbar": {
             "outlinewidth": 0,
             "ticks": ""
            },
            "colorscale": [
             [
              0,
              "#0d0887"
             ],
             [
              0.1111111111111111,
              "#46039f"
             ],
             [
              0.2222222222222222,
              "#7201a8"
             ],
             [
              0.3333333333333333,
              "#9c179e"
             ],
             [
              0.4444444444444444,
              "#bd3786"
             ],
             [
              0.5555555555555556,
              "#d8576b"
             ],
             [
              0.6666666666666666,
              "#ed7953"
             ],
             [
              0.7777777777777778,
              "#fb9f3a"
             ],
             [
              0.8888888888888888,
              "#fdca26"
             ],
             [
              1,
              "#f0f921"
             ]
            ],
            "type": "contour"
           }
          ],
          "contourcarpet": [
           {
            "colorbar": {
             "outlinewidth": 0,
             "ticks": ""
            },
            "type": "contourcarpet"
           }
          ],
          "heatmap": [
           {
            "colorbar": {
             "outlinewidth": 0,
             "ticks": ""
            },
            "colorscale": [
             [
              0,
              "#0d0887"
             ],
             [
              0.1111111111111111,
              "#46039f"
             ],
             [
              0.2222222222222222,
              "#7201a8"
             ],
             [
              0.3333333333333333,
              "#9c179e"
             ],
             [
              0.4444444444444444,
              "#bd3786"
             ],
             [
              0.5555555555555556,
              "#d8576b"
             ],
             [
              0.6666666666666666,
              "#ed7953"
             ],
             [
              0.7777777777777778,
              "#fb9f3a"
             ],
             [
              0.8888888888888888,
              "#fdca26"
             ],
             [
              1,
              "#f0f921"
             ]
            ],
            "type": "heatmap"
           }
          ],
          "heatmapgl": [
           {
            "colorbar": {
             "outlinewidth": 0,
             "ticks": ""
            },
            "colorscale": [
             [
              0,
              "#0d0887"
             ],
             [
              0.1111111111111111,
              "#46039f"
             ],
             [
              0.2222222222222222,
              "#7201a8"
             ],
             [
              0.3333333333333333,
              "#9c179e"
             ],
             [
              0.4444444444444444,
              "#bd3786"
             ],
             [
              0.5555555555555556,
              "#d8576b"
             ],
             [
              0.6666666666666666,
              "#ed7953"
             ],
             [
              0.7777777777777778,
              "#fb9f3a"
             ],
             [
              0.8888888888888888,
              "#fdca26"
             ],
             [
              1,
              "#f0f921"
             ]
            ],
            "type": "heatmapgl"
           }
          ],
          "histogram": [
           {
            "marker": {
             "pattern": {
              "fillmode": "overlay",
              "size": 10,
              "solidity": 0.2
             }
            },
            "type": "histogram"
           }
          ],
          "histogram2d": [
           {
            "colorbar": {
             "outlinewidth": 0,
             "ticks": ""
            },
            "colorscale": [
             [
              0,
              "#0d0887"
             ],
             [
              0.1111111111111111,
              "#46039f"
             ],
             [
              0.2222222222222222,
              "#7201a8"
             ],
             [
              0.3333333333333333,
              "#9c179e"
             ],
             [
              0.4444444444444444,
              "#bd3786"
             ],
             [
              0.5555555555555556,
              "#d8576b"
             ],
             [
              0.6666666666666666,
              "#ed7953"
             ],
             [
              0.7777777777777778,
              "#fb9f3a"
             ],
             [
              0.8888888888888888,
              "#fdca26"
             ],
             [
              1,
              "#f0f921"
             ]
            ],
            "type": "histogram2d"
           }
          ],
          "histogram2dcontour": [
           {
            "colorbar": {
             "outlinewidth": 0,
             "ticks": ""
            },
            "colorscale": [
             [
              0,
              "#0d0887"
             ],
             [
              0.1111111111111111,
              "#46039f"
             ],
             [
              0.2222222222222222,
              "#7201a8"
             ],
             [
              0.3333333333333333,
              "#9c179e"
             ],
             [
              0.4444444444444444,
              "#bd3786"
             ],
             [
              0.5555555555555556,
              "#d8576b"
             ],
             [
              0.6666666666666666,
              "#ed7953"
             ],
             [
              0.7777777777777778,
              "#fb9f3a"
             ],
             [
              0.8888888888888888,
              "#fdca26"
             ],
             [
              1,
              "#f0f921"
             ]
            ],
            "type": "histogram2dcontour"
           }
          ],
          "mesh3d": [
           {
            "colorbar": {
             "outlinewidth": 0,
             "ticks": ""
            },
            "type": "mesh3d"
           }
          ],
          "parcoords": [
           {
            "line": {
             "colorbar": {
              "outlinewidth": 0,
              "ticks": ""
             }
            },
            "type": "parcoords"
           }
          ],
          "pie": [
           {
            "automargin": true,
            "type": "pie"
           }
          ],
          "scatter": [
           {
            "fillpattern": {
             "fillmode": "overlay",
             "size": 10,
             "solidity": 0.2
            },
            "type": "scatter"
           }
          ],
          "scatter3d": [
           {
            "line": {
             "colorbar": {
              "outlinewidth": 0,
              "ticks": ""
             }
            },
            "marker": {
             "colorbar": {
              "outlinewidth": 0,
              "ticks": ""
             }
            },
            "type": "scatter3d"
           }
          ],
          "scattercarpet": [
           {
            "marker": {
             "colorbar": {
              "outlinewidth": 0,
              "ticks": ""
             }
            },
            "type": "scattercarpet"
           }
          ],
          "scattergeo": [
           {
            "marker": {
             "colorbar": {
              "outlinewidth": 0,
              "ticks": ""
             }
            },
            "type": "scattergeo"
           }
          ],
          "scattergl": [
           {
            "marker": {
             "colorbar": {
              "outlinewidth": 0,
              "ticks": ""
             }
            },
            "type": "scattergl"
           }
          ],
          "scattermapbox": [
           {
            "marker": {
             "colorbar": {
              "outlinewidth": 0,
              "ticks": ""
             }
            },
            "type": "scattermapbox"
           }
          ],
          "scatterpolar": [
           {
            "marker": {
             "colorbar": {
              "outlinewidth": 0,
              "ticks": ""
             }
            },
            "type": "scatterpolar"
           }
          ],
          "scatterpolargl": [
           {
            "marker": {
             "colorbar": {
              "outlinewidth": 0,
              "ticks": ""
             }
            },
            "type": "scatterpolargl"
           }
          ],
          "scatterternary": [
           {
            "marker": {
             "colorbar": {
              "outlinewidth": 0,
              "ticks": ""
             }
            },
            "type": "scatterternary"
           }
          ],
          "surface": [
           {
            "colorbar": {
             "outlinewidth": 0,
             "ticks": ""
            },
            "colorscale": [
             [
              0,
              "#0d0887"
             ],
             [
              0.1111111111111111,
              "#46039f"
             ],
             [
              0.2222222222222222,
              "#7201a8"
             ],
             [
              0.3333333333333333,
              "#9c179e"
             ],
             [
              0.4444444444444444,
              "#bd3786"
             ],
             [
              0.5555555555555556,
              "#d8576b"
             ],
             [
              0.6666666666666666,
              "#ed7953"
             ],
             [
              0.7777777777777778,
              "#fb9f3a"
             ],
             [
              0.8888888888888888,
              "#fdca26"
             ],
             [
              1,
              "#f0f921"
             ]
            ],
            "type": "surface"
           }
          ],
          "table": [
           {
            "cells": {
             "fill": {
              "color": "#EBF0F8"
             },
             "line": {
              "color": "white"
             }
            },
            "header": {
             "fill": {
              "color": "#C8D4E3"
             },
             "line": {
              "color": "white"
             }
            },
            "type": "table"
           }
          ]
         },
         "layout": {
          "annotationdefaults": {
           "arrowcolor": "#2a3f5f",
           "arrowhead": 0,
           "arrowwidth": 1
          },
          "autotypenumbers": "strict",
          "coloraxis": {
           "colorbar": {
            "outlinewidth": 0,
            "ticks": ""
           }
          },
          "colorscale": {
           "diverging": [
            [
             0,
             "#8e0152"
            ],
            [
             0.1,
             "#c51b7d"
            ],
            [
             0.2,
             "#de77ae"
            ],
            [
             0.3,
             "#f1b6da"
            ],
            [
             0.4,
             "#fde0ef"
            ],
            [
             0.5,
             "#f7f7f7"
            ],
            [
             0.6,
             "#e6f5d0"
            ],
            [
             0.7,
             "#b8e186"
            ],
            [
             0.8,
             "#7fbc41"
            ],
            [
             0.9,
             "#4d9221"
            ],
            [
             1,
             "#276419"
            ]
           ],
           "sequential": [
            [
             0,
             "#0d0887"
            ],
            [
             0.1111111111111111,
             "#46039f"
            ],
            [
             0.2222222222222222,
             "#7201a8"
            ],
            [
             0.3333333333333333,
             "#9c179e"
            ],
            [
             0.4444444444444444,
             "#bd3786"
            ],
            [
             0.5555555555555556,
             "#d8576b"
            ],
            [
             0.6666666666666666,
             "#ed7953"
            ],
            [
             0.7777777777777778,
             "#fb9f3a"
            ],
            [
             0.8888888888888888,
             "#fdca26"
            ],
            [
             1,
             "#f0f921"
            ]
           ],
           "sequentialminus": [
            [
             0,
             "#0d0887"
            ],
            [
             0.1111111111111111,
             "#46039f"
            ],
            [
             0.2222222222222222,
             "#7201a8"
            ],
            [
             0.3333333333333333,
             "#9c179e"
            ],
            [
             0.4444444444444444,
             "#bd3786"
            ],
            [
             0.5555555555555556,
             "#d8576b"
            ],
            [
             0.6666666666666666,
             "#ed7953"
            ],
            [
             0.7777777777777778,
             "#fb9f3a"
            ],
            [
             0.8888888888888888,
             "#fdca26"
            ],
            [
             1,
             "#f0f921"
            ]
           ]
          },
          "colorway": [
           "#636efa",
           "#EF553B",
           "#00cc96",
           "#ab63fa",
           "#FFA15A",
           "#19d3f3",
           "#FF6692",
           "#B6E880",
           "#FF97FF",
           "#FECB52"
          ],
          "font": {
           "color": "#2a3f5f"
          },
          "geo": {
           "bgcolor": "white",
           "lakecolor": "white",
           "landcolor": "#E5ECF6",
           "showlakes": true,
           "showland": true,
           "subunitcolor": "white"
          },
          "hoverlabel": {
           "align": "left"
          },
          "hovermode": "closest",
          "mapbox": {
           "style": "light"
          },
          "paper_bgcolor": "white",
          "plot_bgcolor": "#E5ECF6",
          "polar": {
           "angularaxis": {
            "gridcolor": "white",
            "linecolor": "white",
            "ticks": ""
           },
           "bgcolor": "#E5ECF6",
           "radialaxis": {
            "gridcolor": "white",
            "linecolor": "white",
            "ticks": ""
           }
          },
          "scene": {
           "xaxis": {
            "backgroundcolor": "#E5ECF6",
            "gridcolor": "white",
            "gridwidth": 2,
            "linecolor": "white",
            "showbackground": true,
            "ticks": "",
            "zerolinecolor": "white"
           },
           "yaxis": {
            "backgroundcolor": "#E5ECF6",
            "gridcolor": "white",
            "gridwidth": 2,
            "linecolor": "white",
            "showbackground": true,
            "ticks": "",
            "zerolinecolor": "white"
           },
           "zaxis": {
            "backgroundcolor": "#E5ECF6",
            "gridcolor": "white",
            "gridwidth": 2,
            "linecolor": "white",
            "showbackground": true,
            "ticks": "",
            "zerolinecolor": "white"
           }
          },
          "shapedefaults": {
           "line": {
            "color": "#2a3f5f"
           }
          },
          "ternary": {
           "aaxis": {
            "gridcolor": "white",
            "linecolor": "white",
            "ticks": ""
           },
           "baxis": {
            "gridcolor": "white",
            "linecolor": "white",
            "ticks": ""
           },
           "bgcolor": "#E5ECF6",
           "caxis": {
            "gridcolor": "white",
            "linecolor": "white",
            "ticks": ""
           }
          },
          "title": {
           "x": 0.05
          },
          "xaxis": {
           "automargin": true,
           "gridcolor": "white",
           "linecolor": "white",
           "ticks": "",
           "title": {
            "standoff": 15
           },
           "zerolinecolor": "white",
           "zerolinewidth": 2
          },
          "yaxis": {
           "automargin": true,
           "gridcolor": "white",
           "linecolor": "white",
           "ticks": "",
           "title": {
            "standoff": 15
           },
           "zerolinecolor": "white",
           "zerolinewidth": 2
          }
         }
        },
        "title": {
         "text": "Media Mensal de Crimes Violentos contra o Patrimônio Público"
        },
        "xaxis": {
         "title": {
          "text": "Mês"
         }
        },
        "yaxis": {
         "title": {
          "text": "Média Mensal"
         }
        }
       }
      },
      "text/html": [
       "<div>                            <div id=\"bbeeb532-27fc-4dd7-b945-a9eba7a2ef38\" class=\"plotly-graph-div\" style=\"height:525px; width:100%;\"></div>            <script type=\"text/javascript\">                require([\"plotly\"], function(Plotly) {                    window.PLOTLYENV=window.PLOTLYENV || {};                                    if (document.getElementById(\"bbeeb532-27fc-4dd7-b945-a9eba7a2ef38\")) {                    Plotly.newPlot(                        \"bbeeb532-27fc-4dd7-b945-a9eba7a2ef38\",                        [{\"x\":[1,2,3,4,5,6,7,8,9,10,11,12],\"y\":[4.988915040619543,5.328062569072515,5.184295363831747,5.095107821049243,5.125299713821641,5.11582980761555,5.109852061693421,5.154329331319074,5.0264824916417385,4.974728004797396,5.019538034039597,4.931120905712557],\"type\":\"bar\"}],                        {\"template\":{\"data\":{\"histogram2dcontour\":[{\"type\":\"histogram2dcontour\",\"colorbar\":{\"outlinewidth\":0,\"ticks\":\"\"},\"colorscale\":[[0.0,\"#0d0887\"],[0.1111111111111111,\"#46039f\"],[0.2222222222222222,\"#7201a8\"],[0.3333333333333333,\"#9c179e\"],[0.4444444444444444,\"#bd3786\"],[0.5555555555555556,\"#d8576b\"],[0.6666666666666666,\"#ed7953\"],[0.7777777777777778,\"#fb9f3a\"],[0.8888888888888888,\"#fdca26\"],[1.0,\"#f0f921\"]]}],\"choropleth\":[{\"type\":\"choropleth\",\"colorbar\":{\"outlinewidth\":0,\"ticks\":\"\"}}],\"histogram2d\":[{\"type\":\"histogram2d\",\"colorbar\":{\"outlinewidth\":0,\"ticks\":\"\"},\"colorscale\":[[0.0,\"#0d0887\"],[0.1111111111111111,\"#46039f\"],[0.2222222222222222,\"#7201a8\"],[0.3333333333333333,\"#9c179e\"],[0.4444444444444444,\"#bd3786\"],[0.5555555555555556,\"#d8576b\"],[0.6666666666666666,\"#ed7953\"],[0.7777777777777778,\"#fb9f3a\"],[0.8888888888888888,\"#fdca26\"],[1.0,\"#f0f921\"]]}],\"heatmap\":[{\"type\":\"heatmap\",\"colorbar\":{\"outlinewidth\":0,\"ticks\":\"\"},\"colorscale\":[[0.0,\"#0d0887\"],[0.1111111111111111,\"#46039f\"],[0.2222222222222222,\"#7201a8\"],[0.3333333333333333,\"#9c179e\"],[0.4444444444444444,\"#bd3786\"],[0.5555555555555556,\"#d8576b\"],[0.6666666666666666,\"#ed7953\"],[0.7777777777777778,\"#fb9f3a\"],[0.8888888888888888,\"#fdca26\"],[1.0,\"#f0f921\"]]}],\"heatmapgl\":[{\"type\":\"heatmapgl\",\"colorbar\":{\"outlinewidth\":0,\"ticks\":\"\"},\"colorscale\":[[0.0,\"#0d0887\"],[0.1111111111111111,\"#46039f\"],[0.2222222222222222,\"#7201a8\"],[0.3333333333333333,\"#9c179e\"],[0.4444444444444444,\"#bd3786\"],[0.5555555555555556,\"#d8576b\"],[0.6666666666666666,\"#ed7953\"],[0.7777777777777778,\"#fb9f3a\"],[0.8888888888888888,\"#fdca26\"],[1.0,\"#f0f921\"]]}],\"contourcarpet\":[{\"type\":\"contourcarpet\",\"colorbar\":{\"outlinewidth\":0,\"ticks\":\"\"}}],\"contour\":[{\"type\":\"contour\",\"colorbar\":{\"outlinewidth\":0,\"ticks\":\"\"},\"colorscale\":[[0.0,\"#0d0887\"],[0.1111111111111111,\"#46039f\"],[0.2222222222222222,\"#7201a8\"],[0.3333333333333333,\"#9c179e\"],[0.4444444444444444,\"#bd3786\"],[0.5555555555555556,\"#d8576b\"],[0.6666666666666666,\"#ed7953\"],[0.7777777777777778,\"#fb9f3a\"],[0.8888888888888888,\"#fdca26\"],[1.0,\"#f0f921\"]]}],\"surface\":[{\"type\":\"surface\",\"colorbar\":{\"outlinewidth\":0,\"ticks\":\"\"},\"colorscale\":[[0.0,\"#0d0887\"],[0.1111111111111111,\"#46039f\"],[0.2222222222222222,\"#7201a8\"],[0.3333333333333333,\"#9c179e\"],[0.4444444444444444,\"#bd3786\"],[0.5555555555555556,\"#d8576b\"],[0.6666666666666666,\"#ed7953\"],[0.7777777777777778,\"#fb9f3a\"],[0.8888888888888888,\"#fdca26\"],[1.0,\"#f0f921\"]]}],\"mesh3d\":[{\"type\":\"mesh3d\",\"colorbar\":{\"outlinewidth\":0,\"ticks\":\"\"}}],\"scatter\":[{\"fillpattern\":{\"fillmode\":\"overlay\",\"size\":10,\"solidity\":0.2},\"type\":\"scatter\"}],\"parcoords\":[{\"type\":\"parcoords\",\"line\":{\"colorbar\":{\"outlinewidth\":0,\"ticks\":\"\"}}}],\"scatterpolargl\":[{\"type\":\"scatterpolargl\",\"marker\":{\"colorbar\":{\"outlinewidth\":0,\"ticks\":\"\"}}}],\"bar\":[{\"error_x\":{\"color\":\"#2a3f5f\"},\"error_y\":{\"color\":\"#2a3f5f\"},\"marker\":{\"line\":{\"color\":\"#E5ECF6\",\"width\":0.5},\"pattern\":{\"fillmode\":\"overlay\",\"size\":10,\"solidity\":0.2}},\"type\":\"bar\"}],\"scattergeo\":[{\"type\":\"scattergeo\",\"marker\":{\"colorbar\":{\"outlinewidth\":0,\"ticks\":\"\"}}}],\"scatterpolar\":[{\"type\":\"scatterpolar\",\"marker\":{\"colorbar\":{\"outlinewidth\":0,\"ticks\":\"\"}}}],\"histogram\":[{\"marker\":{\"pattern\":{\"fillmode\":\"overlay\",\"size\":10,\"solidity\":0.2}},\"type\":\"histogram\"}],\"scattergl\":[{\"type\":\"scattergl\",\"marker\":{\"colorbar\":{\"outlinewidth\":0,\"ticks\":\"\"}}}],\"scatter3d\":[{\"type\":\"scatter3d\",\"line\":{\"colorbar\":{\"outlinewidth\":0,\"ticks\":\"\"}},\"marker\":{\"colorbar\":{\"outlinewidth\":0,\"ticks\":\"\"}}}],\"scattermapbox\":[{\"type\":\"scattermapbox\",\"marker\":{\"colorbar\":{\"outlinewidth\":0,\"ticks\":\"\"}}}],\"scatterternary\":[{\"type\":\"scatterternary\",\"marker\":{\"colorbar\":{\"outlinewidth\":0,\"ticks\":\"\"}}}],\"scattercarpet\":[{\"type\":\"scattercarpet\",\"marker\":{\"colorbar\":{\"outlinewidth\":0,\"ticks\":\"\"}}}],\"carpet\":[{\"aaxis\":{\"endlinecolor\":\"#2a3f5f\",\"gridcolor\":\"white\",\"linecolor\":\"white\",\"minorgridcolor\":\"white\",\"startlinecolor\":\"#2a3f5f\"},\"baxis\":{\"endlinecolor\":\"#2a3f5f\",\"gridcolor\":\"white\",\"linecolor\":\"white\",\"minorgridcolor\":\"white\",\"startlinecolor\":\"#2a3f5f\"},\"type\":\"carpet\"}],\"table\":[{\"cells\":{\"fill\":{\"color\":\"#EBF0F8\"},\"line\":{\"color\":\"white\"}},\"header\":{\"fill\":{\"color\":\"#C8D4E3\"},\"line\":{\"color\":\"white\"}},\"type\":\"table\"}],\"barpolar\":[{\"marker\":{\"line\":{\"color\":\"#E5ECF6\",\"width\":0.5},\"pattern\":{\"fillmode\":\"overlay\",\"size\":10,\"solidity\":0.2}},\"type\":\"barpolar\"}],\"pie\":[{\"automargin\":true,\"type\":\"pie\"}]},\"layout\":{\"autotypenumbers\":\"strict\",\"colorway\":[\"#636efa\",\"#EF553B\",\"#00cc96\",\"#ab63fa\",\"#FFA15A\",\"#19d3f3\",\"#FF6692\",\"#B6E880\",\"#FF97FF\",\"#FECB52\"],\"font\":{\"color\":\"#2a3f5f\"},\"hovermode\":\"closest\",\"hoverlabel\":{\"align\":\"left\"},\"paper_bgcolor\":\"white\",\"plot_bgcolor\":\"#E5ECF6\",\"polar\":{\"bgcolor\":\"#E5ECF6\",\"angularaxis\":{\"gridcolor\":\"white\",\"linecolor\":\"white\",\"ticks\":\"\"},\"radialaxis\":{\"gridcolor\":\"white\",\"linecolor\":\"white\",\"ticks\":\"\"}},\"ternary\":{\"bgcolor\":\"#E5ECF6\",\"aaxis\":{\"gridcolor\":\"white\",\"linecolor\":\"white\",\"ticks\":\"\"},\"baxis\":{\"gridcolor\":\"white\",\"linecolor\":\"white\",\"ticks\":\"\"},\"caxis\":{\"gridcolor\":\"white\",\"linecolor\":\"white\",\"ticks\":\"\"}},\"coloraxis\":{\"colorbar\":{\"outlinewidth\":0,\"ticks\":\"\"}},\"colorscale\":{\"sequential\":[[0.0,\"#0d0887\"],[0.1111111111111111,\"#46039f\"],[0.2222222222222222,\"#7201a8\"],[0.3333333333333333,\"#9c179e\"],[0.4444444444444444,\"#bd3786\"],[0.5555555555555556,\"#d8576b\"],[0.6666666666666666,\"#ed7953\"],[0.7777777777777778,\"#fb9f3a\"],[0.8888888888888888,\"#fdca26\"],[1.0,\"#f0f921\"]],\"sequentialminus\":[[0.0,\"#0d0887\"],[0.1111111111111111,\"#46039f\"],[0.2222222222222222,\"#7201a8\"],[0.3333333333333333,\"#9c179e\"],[0.4444444444444444,\"#bd3786\"],[0.5555555555555556,\"#d8576b\"],[0.6666666666666666,\"#ed7953\"],[0.7777777777777778,\"#fb9f3a\"],[0.8888888888888888,\"#fdca26\"],[1.0,\"#f0f921\"]],\"diverging\":[[0,\"#8e0152\"],[0.1,\"#c51b7d\"],[0.2,\"#de77ae\"],[0.3,\"#f1b6da\"],[0.4,\"#fde0ef\"],[0.5,\"#f7f7f7\"],[0.6,\"#e6f5d0\"],[0.7,\"#b8e186\"],[0.8,\"#7fbc41\"],[0.9,\"#4d9221\"],[1,\"#276419\"]]},\"xaxis\":{\"gridcolor\":\"white\",\"linecolor\":\"white\",\"ticks\":\"\",\"title\":{\"standoff\":15},\"zerolinecolor\":\"white\",\"automargin\":true,\"zerolinewidth\":2},\"yaxis\":{\"gridcolor\":\"white\",\"linecolor\":\"white\",\"ticks\":\"\",\"title\":{\"standoff\":15},\"zerolinecolor\":\"white\",\"automargin\":true,\"zerolinewidth\":2},\"scene\":{\"xaxis\":{\"backgroundcolor\":\"#E5ECF6\",\"gridcolor\":\"white\",\"linecolor\":\"white\",\"showbackground\":true,\"ticks\":\"\",\"zerolinecolor\":\"white\",\"gridwidth\":2},\"yaxis\":{\"backgroundcolor\":\"#E5ECF6\",\"gridcolor\":\"white\",\"linecolor\":\"white\",\"showbackground\":true,\"ticks\":\"\",\"zerolinecolor\":\"white\",\"gridwidth\":2},\"zaxis\":{\"backgroundcolor\":\"#E5ECF6\",\"gridcolor\":\"white\",\"linecolor\":\"white\",\"showbackground\":true,\"ticks\":\"\",\"zerolinecolor\":\"white\",\"gridwidth\":2}},\"shapedefaults\":{\"line\":{\"color\":\"#2a3f5f\"}},\"annotationdefaults\":{\"arrowcolor\":\"#2a3f5f\",\"arrowhead\":0,\"arrowwidth\":1},\"geo\":{\"bgcolor\":\"white\",\"landcolor\":\"#E5ECF6\",\"subunitcolor\":\"white\",\"showland\":true,\"showlakes\":true,\"lakecolor\":\"white\"},\"title\":{\"x\":0.05},\"mapbox\":{\"style\":\"light\"}}},\"title\":{\"text\":\"Media Mensal de Crimes Violentos contra o Patrim\\u00f4nio P\\u00fablico\"},\"xaxis\":{\"title\":{\"text\":\"M\\u00eas\"}},\"yaxis\":{\"title\":{\"text\":\"M\\u00e9dia Mensal\"}}},                        {\"responsive\": true}                    ).then(function(){\n",
       "                            \n",
       "var gd = document.getElementById('bbeeb532-27fc-4dd7-b945-a9eba7a2ef38');\n",
       "var x = new MutationObserver(function (mutations, observer) {{\n",
       "        var display = window.getComputedStyle(gd).display;\n",
       "        if (!display || display === 'none') {{\n",
       "            console.log([gd, 'removed!']);\n",
       "            Plotly.purge(gd);\n",
       "            observer.disconnect();\n",
       "        }}\n",
       "}});\n",
       "\n",
       "// Listen for the removal of the full notebook cells\n",
       "var notebookContainer = gd.closest('#notebook-container');\n",
       "if (notebookContainer) {{\n",
       "    x.observe(notebookContainer, {childList: true});\n",
       "}}\n",
       "\n",
       "// Listen for the clearing of the current output cell\n",
       "var outputEl = gd.closest('.output');\n",
       "if (outputEl) {{\n",
       "    x.observe(outputEl, {childList: true});\n",
       "}}\n",
       "\n",
       "                        })                };                });            </script>        </div>"
      ]
     },
     "metadata": {},
     "output_type": "display_data"
    }
   ],
   "source": [
    "## Gráfico de Barras usando o Plotly \n",
    "fig = go.Figure(data=[go.Bar(x=media_mensal.index, y=media_mensal.values)])\n",
    "fig.update_layout(title='Media Mensal de Crimes Violentos contra o Patrimônio Público', \n",
    "                  xaxis_title='Mês', \n",
    "                  yaxis_title='Média Mensal')"
   ]
  },
  {
   "cell_type": "markdown",
   "id": "6d2d728d",
   "metadata": {},
   "source": [
    "** 7) Como os níveis de crimes violentos contra o patrimônio público variaram em diferentes municípios ou regiões geográficas?"
   ]
  },
  {
   "cell_type": "markdown",
   "id": "970db747",
   "metadata": {},
   "source": [
    "**Município"
   ]
  },
  {
   "cell_type": "code",
   "execution_count": 57,
   "id": "b0a43b22",
   "metadata": {},
   "outputs": [],
   "source": [
    "tabela_variacao = cvp.pivot_table(index=['ANO'], columns=['MUNICIPIO'], values='TOTAL', aggfunc='sum')"
   ]
  },
  {
   "cell_type": "code",
   "execution_count": 58,
   "id": "61eb4fd3",
   "metadata": {},
   "outputs": [
    {
     "name": "stdout",
     "output_type": "stream",
     "text": [
      "MUNICIPIO  ABREU E LIMA  AFOGADOS DA INGAZEIRA  AFRANIO  AGRESTINA  \\\n",
      "ANO                                                                  \n",
      "2014              679.0                   25.0      5.0      224.0   \n",
      "2015             1097.0                   40.0      6.0      297.0   \n",
      "2016             1534.0                   37.0      9.0      519.0   \n",
      "2017             1540.0                   39.0     19.0      511.0   \n",
      "2018             1113.0                   40.0     25.0      440.0   \n",
      "2019              869.0                   57.0      9.0      332.0   \n",
      "2020              596.0                   48.0      5.0      279.0   \n",
      "2021              628.0                   16.0     10.0      204.0   \n",
      "2022              518.0                   34.0      8.0      167.0   \n",
      "2023              271.0                   16.0      5.0      125.0   \n",
      "\n",
      "MUNICIPIO  AGUA PRETA  AGUAS BELAS  ALAGOINHA  ALIANCA  ALTINHO  AMARAJI  ...  \\\n",
      "ANO                                                                       ...   \n",
      "2014             60.0         46.0       15.0     84.0     92.0     41.0  ...   \n",
      "2015             73.0         59.0       22.0    184.0    232.0     41.0  ...   \n",
      "2016             96.0         70.0       48.0    143.0    208.0     82.0  ...   \n",
      "2017             79.0        101.0       52.0    217.0    173.0     74.0  ...   \n",
      "2018             70.0         88.0       28.0    188.0    188.0     73.0  ...   \n",
      "2019             72.0         66.0       23.0    101.0    135.0     50.0  ...   \n",
      "2020             67.0         51.0       20.0     90.0    102.0     36.0  ...   \n",
      "2021             28.0         44.0       23.0    113.0     84.0     43.0  ...   \n",
      "2022             36.0         30.0       14.0     67.0     87.0     25.0  ...   \n",
      "2023             19.0         21.0        9.0     60.0     50.0     19.0  ...   \n",
      "\n",
      "MUNICIPIO  TRIUNFO  TUPANATINGA  TUPARETAMA  VENTUROSA  VERDEJANTE  \\\n",
      "ANO                                                                  \n",
      "2014           2.0          4.0        10.0       17.0        10.0   \n",
      "2015           9.0         11.0        11.0       19.0        11.0   \n",
      "2016          27.0         17.0        17.0       39.0        13.0   \n",
      "2017          25.0         19.0        13.0       49.0         7.0   \n",
      "2018           5.0         10.0        10.0       37.0        14.0   \n",
      "2019           6.0          3.0        10.0       28.0        13.0   \n",
      "2020           6.0          5.0        19.0       17.0        10.0   \n",
      "2021           7.0         10.0        16.0       25.0         9.0   \n",
      "2022           1.0          6.0        15.0       29.0         5.0   \n",
      "2023           2.0          NaN         1.0       20.0         NaN   \n",
      "\n",
      "MUNICIPIO  VERTENTE DO LERIO  VERTENTES  VICENCIA  VITORIA DE SANTO ANTAO  \\\n",
      "ANO                                                                         \n",
      "2014                    15.0      124.0     115.0                   853.0   \n",
      "2015                    21.0      149.0     149.0                   986.0   \n",
      "2016                    23.0      152.0     148.0                  1399.0   \n",
      "2017                    36.0      214.0     115.0                  1818.0   \n",
      "2018                    25.0      172.0     111.0                  1273.0   \n",
      "2019                    34.0      148.0      71.0                  1202.0   \n",
      "2020                    17.0      107.0      29.0                   916.0   \n",
      "2021                     8.0      101.0      39.0                   663.0   \n",
      "2022                    26.0       92.0      37.0                   636.0   \n",
      "2023                    28.0       80.0      25.0                   397.0   \n",
      "\n",
      "MUNICIPIO  XEXEU  \n",
      "ANO               \n",
      "2014        80.0  \n",
      "2015        63.0  \n",
      "2016        90.0  \n",
      "2017        89.0  \n",
      "2018       102.0  \n",
      "2019        57.0  \n",
      "2020        24.0  \n",
      "2021        23.0  \n",
      "2022        13.0  \n",
      "2023         9.0  \n",
      "\n",
      "[10 rows x 185 columns]\n"
     ]
    }
   ],
   "source": [
    "print(tabela_variacao)"
   ]
  },
  {
   "cell_type": "markdown",
   "id": "3416a5f2",
   "metadata": {},
   "source": [
    "** Regiões Geográficas "
   ]
  },
  {
   "cell_type": "code",
   "execution_count": 59,
   "id": "70fda70e",
   "metadata": {},
   "outputs": [],
   "source": [
    "tabela_variacao_geografica = cvp.pivot_table(index=['ANO'], columns=['REGIÃO_GEO'], values='TOTAL', aggfunc='sum')"
   ]
  },
  {
   "cell_type": "code",
   "execution_count": 60,
   "id": "d44f5b98",
   "metadata": {},
   "outputs": [
    {
     "name": "stdout",
     "output_type": "stream",
     "text": [
      "REGIÃO_GEO  AGRESTE  RECIFE  REGIÃO METROPOLITANA  SERTÃO  ZONA DA MATA\n",
      "ANO                                                                    \n",
      "2014          11254   25630                 19742    3173          5470\n",
      "2015          15699   32828                 25577    3953          7017\n",
      "2016          22792   41652                 36151    5694          9181\n",
      "2017          25683   41037                 36274    6361         11320\n",
      "2018          19128   33023                 28480    5186          9530\n",
      "2019          14934   28826                 24213    4057          7732\n",
      "2020          10188   17963                 17037    2983          5142\n",
      "2021           9212   18694                 16750    3038          4392\n",
      "2022           9710   19212                 15264    2871          4061\n",
      "2023           5445   12653                  9482    1261          2468\n"
     ]
    }
   ],
   "source": [
    "print(tabela_variacao_geografica)"
   ]
  },
  {
   "cell_type": "markdown",
   "id": "33a3c8ec",
   "metadata": {},
   "source": [
    "** 8) É possível identificar algum padrão relacionado ao aumento ou diminuição dos crimes violentos contra o patrimônio público em anos específicos?"
   ]
  },
  {
   "cell_type": "markdown",
   "id": "64651be2",
   "metadata": {},
   "source": [
    "## Visualização de Tendências Temporais"
   ]
  },
  {
   "cell_type": "code",
   "execution_count": 64,
   "id": "15932273",
   "metadata": {},
   "outputs": [
    {
     "data": {
      "image/png": "[encoded data removed]",
      "text/plain": [
       "<Figure size 1000x600 with 1 Axes>"
      ]
     },
     "metadata": {},
     "output_type": "display_data"
    }
   ],
   "source": [
    "plt.figure(figsize=(10, 6)) \n",
    "plt.plot(cvp['ANO'], cvp['TOTAL'], marker='o', linestyle='-')\n",
    "plt.title('Variação Anual dos Crimes Violentos contra o Patrimônio Público') \n",
    "plt.xlabel('Ano')\n",
    "plt.ylabel('Total de Crimes')\n",
    "plt.grid(True)\n",
    "plt.show()"
   ]
  },
  {
   "cell_type": "markdown",
   "id": "71291170",
   "metadata": {},
   "source": [
    "## Análise Estatística "
   ]
  },
  {
   "cell_type": "code",
   "execution_count": 68,
   "id": "b3a6a006",
   "metadata": {},
   "outputs": [],
   "source": [
    "## Uso de Regressão linear para taxa de aumento ou diminuição de crimes patrimoniais\n",
    "X = cvp['ANO'].values.reshape(-1, 1)\n",
    "y = cvp['TOTAL'].values"
   ]
  },
  {
   "cell_type": "code",
   "execution_count": 71,
   "id": "097e34bc",
   "metadata": {},
   "outputs": [],
   "source": [
    "regression = LinearRegression()\n",
    "regression.fit(X, y) \n",
    "\n",
    "coeficiente_inclinacao = regression.coef_[0]"
   ]
  },
  {
   "cell_type": "code",
   "execution_count": 72,
   "id": "5e146464",
   "metadata": {},
   "outputs": [
    {
     "name": "stdout",
     "output_type": "stream",
     "text": [
      "Taxa de aumento ou diminuição anual: -0.23 crimes por ano\n"
     ]
    }
   ],
   "source": [
    "print(f\"Taxa de aumento ou diminuição anual: {coeficiente_inclinacao: .2f} crimes por ano\")"
   ]
  },
  {
   "cell_type": "markdown",
   "id": "6704272c",
   "metadata": {},
   "source": [
    "** 9) Qual é a média anual de crimes violentos contra o patrimônio público em todas as regiões geográficas analisadas?"
   ]
  },
  {
   "cell_type": "code",
   "execution_count": 88,
   "id": "f30c3b5d",
   "metadata": {},
   "outputs": [],
   "source": [
    "media_anual_crimes = cvp.groupby('ANO')['TOTAL'].mean()"
   ]
  },
  {
   "cell_type": "code",
   "execution_count": 91,
   "id": "9ea35b28",
   "metadata": {},
   "outputs": [],
   "source": [
    "analise_anual_crimes = pd.DataFrame({\"Média Anual de Crimes\" : media_anual_crimes})"
   ]
  },
  {
   "cell_type": "code",
   "execution_count": 93,
   "id": "cf0b3272",
   "metadata": {},
   "outputs": [
    {
     "data": {
      "text/html": [
       "<div>\n",
       "<style scoped>\n",
       "    .dataframe tbody tr th:only-of-type {\n",
       "        vertical-align: middle;\n",
       "    }\n",
       "\n",
       "    .dataframe tbody tr th {\n",
       "        vertical-align: top;\n",
       "    }\n",
       "\n",
       "    .dataframe thead th {\n",
       "        text-align: right;\n",
       "    }\n",
       "</style>\n",
       "<table border=\"1\" class=\"dataframe\">\n",
       "  <thead>\n",
       "    <tr style=\"text-align: right;\">\n",
       "      <th></th>\n",
       "      <th>Média Anual de Crimes</th>\n",
       "    </tr>\n",
       "    <tr>\n",
       "      <th>ANO</th>\n",
       "      <th></th>\n",
       "    </tr>\n",
       "  </thead>\n",
       "  <tbody>\n",
       "    <tr>\n",
       "      <th>2014</th>\n",
       "      <td>4.90</td>\n",
       "    </tr>\n",
       "    <tr>\n",
       "      <th>2015</th>\n",
       "      <td>5.52</td>\n",
       "    </tr>\n",
       "    <tr>\n",
       "      <th>2016</th>\n",
       "      <td>6.32</td>\n",
       "    </tr>\n",
       "    <tr>\n",
       "      <th>2017</th>\n",
       "      <td>5.98</td>\n",
       "    </tr>\n",
       "    <tr>\n",
       "      <th>2018</th>\n",
       "      <td>5.28</td>\n",
       "    </tr>\n",
       "    <tr>\n",
       "      <th>2019</th>\n",
       "      <td>5.05</td>\n",
       "    </tr>\n",
       "    <tr>\n",
       "      <th>2020</th>\n",
       "      <td>4.01</td>\n",
       "    </tr>\n",
       "    <tr>\n",
       "      <th>2021</th>\n",
       "      <td>4.04</td>\n",
       "    </tr>\n",
       "    <tr>\n",
       "      <th>2022</th>\n",
       "      <td>4.16</td>\n",
       "    </tr>\n",
       "    <tr>\n",
       "      <th>2023</th>\n",
       "      <td>4.04</td>\n",
       "    </tr>\n",
       "  </tbody>\n",
       "</table>\n",
       "</div>"
      ],
      "text/plain": [
       "      Média Anual de Crimes\n",
       "ANO                        \n",
       "2014                   4.90\n",
       "2015                   5.52\n",
       "2016                   6.32\n",
       "2017                   5.98\n",
       "2018                   5.28\n",
       "2019                   5.05\n",
       "2020                   4.01\n",
       "2021                   4.04\n",
       "2022                   4.16\n",
       "2023                   4.04"
      ]
     },
     "execution_count": 93,
     "metadata": {},
     "output_type": "execute_result"
    }
   ],
   "source": [
    "analise_anual_crimes.round(2)"
   ]
  }
 ],
 "metadata": {
  "kernelspec": {
   "display_name": "Python 3 (ipykernel)",
   "language": "python",
   "name": "python3"
  },
  "language_info": {
   "codemirror_mode": {
    "name": "ipython",
    "version": 3
   },
   "file_extension": ".py",
   "mimetype": "text/x-python",
   "name": "python",
   "nbconvert_exporter": "python",
   "pygments_lexer": "ipython3",
   "version": "3.9.13"
  }
 },
 "nbformat": 4,
 "nbformat_minor": 5
}
